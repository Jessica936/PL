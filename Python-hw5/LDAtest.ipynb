{
 "cells": [
  {
   "cell_type": "code",
   "execution_count": 1,
   "metadata": {},
   "outputs": [
    {
     "name": "stdout",
     "output_type": "stream",
     "text": [
      "Collecting gspread\n",
      "  Obtaining dependency information for gspread from https://files.pythonhosted.org/packages/4f/95/23b84d3ce6f79c2f0c9976a9ba297d371b2a336568c56d0878c8a4fc2c01/gspread-5.12.0-py3-none-any.whl.metadata\n",
      "  Downloading gspread-5.12.0-py3-none-any.whl.metadata (7.6 kB)\n",
      "Requirement already satisfied: gensim in c:\\users\\jessica\\appdata\\local\\packages\\pythonsoftwarefoundation.python.3.11_qbz5n2kfra8p0\\localcache\\local-packages\\python311\\site-packages (4.3.2)\n",
      "Collecting google-auth>=1.12.0 (from gspread)\n",
      "  Obtaining dependency information for google-auth>=1.12.0 from https://files.pythonhosted.org/packages/86/a7/75911c13a242735d5aeaca6a272da380335ff4ba5f26d6b2ae20ff682d13/google_auth-2.23.4-py2.py3-none-any.whl.metadata\n",
      "  Downloading google_auth-2.23.4-py2.py3-none-any.whl.metadata (4.7 kB)\n",
      "Collecting google-auth-oauthlib>=0.4.1 (from gspread)\n",
      "  Obtaining dependency information for google-auth-oauthlib>=0.4.1 from https://files.pythonhosted.org/packages/ce/33/a907b4b67245647746dde8d61e1643ef5d210c88e090d491efd89eff9f95/google_auth_oauthlib-1.1.0-py2.py3-none-any.whl.metadata\n",
      "  Downloading google_auth_oauthlib-1.1.0-py2.py3-none-any.whl.metadata (2.7 kB)\n",
      "Requirement already satisfied: numpy>=1.18.5 in c:\\users\\jessica\\appdata\\local\\packages\\pythonsoftwarefoundation.python.3.11_qbz5n2kfra8p0\\localcache\\local-packages\\python311\\site-packages (from gensim) (1.25.2)\n",
      "Requirement already satisfied: scipy>=1.7.0 in c:\\users\\jessica\\appdata\\local\\packages\\pythonsoftwarefoundation.python.3.11_qbz5n2kfra8p0\\localcache\\local-packages\\python311\\site-packages (from gensim) (1.11.3)\n",
      "Requirement already satisfied: smart-open>=1.8.1 in c:\\users\\jessica\\appdata\\local\\packages\\pythonsoftwarefoundation.python.3.11_qbz5n2kfra8p0\\localcache\\local-packages\\python311\\site-packages (from gensim) (6.4.0)\n",
      "Collecting cachetools<6.0,>=2.0.0 (from google-auth>=1.12.0->gspread)\n",
      "  Obtaining dependency information for cachetools<6.0,>=2.0.0 from https://files.pythonhosted.org/packages/a2/91/2d843adb9fbd911e0da45fbf6f18ca89d07a087c3daa23e955584f90ebf4/cachetools-5.3.2-py3-none-any.whl.metadata\n",
      "  Downloading cachetools-5.3.2-py3-none-any.whl.metadata (5.2 kB)\n",
      "Collecting pyasn1-modules>=0.2.1 (from google-auth>=1.12.0->gspread)\n",
      "  Downloading pyasn1_modules-0.3.0-py2.py3-none-any.whl (181 kB)\n",
      "     ---------------------------------------- 0.0/181.3 kB ? eta -:--:--\n",
      "     -- ------------------------------------- 10.2/181.3 kB ? eta -:--:--\n",
      "     ------ ------------------------------ 30.7/181.3 kB 435.7 kB/s eta 0:00:01\n",
      "     ------------------ ------------------ 92.2/181.3 kB 751.6 kB/s eta 0:00:01\n",
      "     ------------------------ ----------- 122.9/181.3 kB 798.9 kB/s eta 0:00:01\n",
      "     ------------------------------------ 181.3/181.3 kB 914.8 kB/s eta 0:00:00\n",
      "Collecting rsa<5,>=3.1.4 (from google-auth>=1.12.0->gspread)\n",
      "  Downloading rsa-4.9-py3-none-any.whl (34 kB)\n",
      "Collecting requests-oauthlib>=0.7.0 (from google-auth-oauthlib>=0.4.1->gspread)\n",
      "  Downloading requests_oauthlib-1.3.1-py2.py3-none-any.whl (23 kB)\n",
      "Collecting pyasn1<0.6.0,>=0.4.6 (from pyasn1-modules>=0.2.1->google-auth>=1.12.0->gspread)\n",
      "  Downloading pyasn1-0.5.0-py2.py3-none-any.whl (83 kB)\n",
      "     ---------------------------------------- 0.0/83.9 kB ? eta -:--:--\n",
      "     ---------------------------------------- 83.9/83.9 kB 2.3 MB/s eta 0:00:00\n",
      "Collecting oauthlib>=3.0.0 (from requests-oauthlib>=0.7.0->google-auth-oauthlib>=0.4.1->gspread)\n",
      "  Downloading oauthlib-3.2.2-py3-none-any.whl (151 kB)\n",
      "     ---------------------------------------- 0.0/151.7 kB ? eta -:--:--\n",
      "     ---------------- ----------------------- 61.4/151.7 kB ? eta -:--:--\n",
      "     ---------------- ----------------------- 61.4/151.7 kB ? eta -:--:--\n",
      "     ---------------- ----------------------- 61.4/151.7 kB ? eta -:--:--\n",
      "     -------------------------------------- 151.7/151.7 kB 1.1 MB/s eta 0:00:00\n",
      "Requirement already satisfied: requests>=2.0.0 in c:\\users\\jessica\\appdata\\local\\packages\\pythonsoftwarefoundation.python.3.11_qbz5n2kfra8p0\\localcache\\local-packages\\python311\\site-packages (from requests-oauthlib>=0.7.0->google-auth-oauthlib>=0.4.1->gspread) (2.30.0)\n",
      "Requirement already satisfied: charset-normalizer<4,>=2 in c:\\users\\jessica\\appdata\\local\\packages\\pythonsoftwarefoundation.python.3.11_qbz5n2kfra8p0\\localcache\\local-packages\\python311\\site-packages (from requests>=2.0.0->requests-oauthlib>=0.7.0->google-auth-oauthlib>=0.4.1->gspread) (3.1.0)\n",
      "Requirement already satisfied: idna<4,>=2.5 in c:\\users\\jessica\\appdata\\local\\packages\\pythonsoftwarefoundation.python.3.11_qbz5n2kfra8p0\\localcache\\local-packages\\python311\\site-packages (from requests>=2.0.0->requests-oauthlib>=0.7.0->google-auth-oauthlib>=0.4.1->gspread) (3.4)\n",
      "Requirement already satisfied: urllib3<3,>=1.21.1 in c:\\users\\jessica\\appdata\\local\\packages\\pythonsoftwarefoundation.python.3.11_qbz5n2kfra8p0\\localcache\\local-packages\\python311\\site-packages (from requests>=2.0.0->requests-oauthlib>=0.7.0->google-auth-oauthlib>=0.4.1->gspread) (2.0.2)\n",
      "Requirement already satisfied: certifi>=2017.4.17 in c:\\users\\jessica\\appdata\\local\\packages\\pythonsoftwarefoundation.python.3.11_qbz5n2kfra8p0\\localcache\\local-packages\\python311\\site-packages (from requests>=2.0.0->requests-oauthlib>=0.7.0->google-auth-oauthlib>=0.4.1->gspread) (2023.5.7)\n",
      "Downloading gspread-5.12.0-py3-none-any.whl (48 kB)\n",
      "   ---------------------------------------- 0.0/48.5 kB ? eta -:--:--\n",
      "   ---------------------------------------- 48.5/48.5 kB 2.4 MB/s eta 0:00:00\n",
      "Downloading google_auth-2.23.4-py2.py3-none-any.whl (183 kB)\n",
      "   ---------------------------------------- 0.0/183.3 kB ? eta -:--:--\n",
      "   ------ --------------------------------- 30.7/183.3 kB ? eta -:--:--\n",
      "   ------ --------------------------------- 30.7/183.3 kB ? eta -:--:--\n",
      "   -------- ------------------------------ 41.0/183.3 kB 393.8 kB/s eta 0:00:01\n",
      "   ---------------------------------------- 183.3/183.3 kB 1.6 MB/s eta 0:00:00\n",
      "Downloading google_auth_oauthlib-1.1.0-py2.py3-none-any.whl (19 kB)\n",
      "Downloading cachetools-5.3.2-py3-none-any.whl (9.3 kB)\n",
      "Installing collected packages: pyasn1, oauthlib, cachetools, rsa, requests-oauthlib, pyasn1-modules, google-auth, google-auth-oauthlib, gspread\n",
      "Successfully installed cachetools-5.3.2 google-auth-2.23.4 google-auth-oauthlib-1.1.0 gspread-5.12.0 oauthlib-3.2.2 pyasn1-0.5.0 pyasn1-modules-0.3.0 requests-oauthlib-1.3.1 rsa-4.9\n"
     ]
    },
    {
     "name": "stderr",
     "output_type": "stream",
     "text": [
      "\n",
      "[notice] A new release of pip is available: 23.2.1 -> 23.3.1\n",
      "[notice] To update, run: C:\\Users\\Jessica\\AppData\\Local\\Microsoft\\WindowsApps\\PythonSoftwareFoundation.Python.3.11_qbz5n2kfra8p0\\python.exe -m pip install --upgrade pip\n"
     ]
    }
   ],
   "source": [
    "! pip install gspread gensim"
   ]
  },
  {
   "cell_type": "code",
   "execution_count": null,
   "metadata": {},
   "outputs": [],
   "source": []
  }
 ],
 "metadata": {
  "kernelspec": {
   "display_name": "Python 3",
   "language": "python",
   "name": "python3"
  },
  "language_info": {
   "codemirror_mode": {
    "name": "ipython",
    "version": 3
   },
   "file_extension": ".py",
   "mimetype": "text/x-python",
   "name": "python",
   "nbconvert_exporter": "python",
   "pygments_lexer": "ipython3",
   "version": "3.11.6"
  }
 },
 "nbformat": 4,
 "nbformat_minor": 2
}
